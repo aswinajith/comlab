{
  "nbformat": 4,
  "nbformat_minor": 0,
  "metadata": {
    "colab": {
      "provenance": [],
      "authorship_tag": "ABX9TyPS5LVkOxPGzQcJ1cdhy5vL",
      "include_colab_link": true
    },
    "kernelspec": {
      "name": "python3",
      "display_name": "Python 3"
    },
    "language_info": {
      "name": "python"
    }
  },
  "cells": [
    {
      "cell_type": "markdown",
      "metadata": {
        "id": "view-in-github",
        "colab_type": "text"
      },
      "source": [
        "<a href=\"https://colab.research.google.com/github/aswinajith/comlab/blob/main/Untitled5.ipynb\" target=\"_parent\"><img src=\"https://colab.research.google.com/assets/colab-badge.svg\" alt=\"Open In Colab\"/></a>"
      ]
    },
    {
      "cell_type": "code",
      "execution_count": null,
      "metadata": {
        "id": "2HTbK3g-XYuN"
      },
      "outputs": [],
      "source": [
        "import numpy as np\n",
        "import matplotlib.pyplot as plt\n",
        "def bin_octal"
      ]
    },
    {
      "cell_type": "code",
      "source": [
        "#matched filter\n",
        "#Raised Cosiene\n",
        "import numpy as np\n",
        "import matplotlib.pyplot as plt\n",
        "\n",
        "# Define Parameters\n",
        "num_symbols = 10\n",
        "sps = 8  # Samples per symbol\n",
        "beta = 0.35  # Roll-off factor\n",
        "num_taps = 101  # Filter length (should be odd)\n",
        "\n",
        "# Generate Random Binary Data and Convert to NRZ\n",
        "bits = np.random.randint(0, 2, num_symbols)\n",
        "symbols = 2 * bits - 1\n",
        "\n",
        "# Oversample\n",
        "x = np.zeros(num_symbols * sps)\n",
        "x[::sps] = symbols\n",
        "\n",
        "# Time vector for filter\n",
        "t = np.arange(-num_taps//2, num_taps//2 + 1)\n",
        "\n",
        "# Raised Cosine Pulse (handle singularities safely)\n",
        "h = np.zeros_like(t, dtype=float)\n",
        "for i in range(len(t)):\n",
        "    ti = t[i] / sps\n",
        "    if abs(1 - (2 * beta * ti)**2) < 1e-10:\n",
        "        h[i] = beta / (2 * sps) * np.sinc(1 / (2 * beta))\n",
        "    else:\n",
        "        h[i] = (1 / sps) * np.sinc(ti) * np.cos(np.pi * beta * ti) / (1 - (2 * beta * ti) ** 2)\n",
        "\n",
        "# Apply Filter\n",
        "x_shaped = np.convolve(x, h)\n",
        "\n",
        "# Plotting\n",
        "plt.figure(figsize=(10, 6))\n",
        "\n",
        "plt.subplot(3, 1, 1)\n",
        "plt.plot(x, '-.')\n",
        "plt.title(\"Oversampled NRZ Signal\")\n",
        "plt.grid(True)\n",
        "\n",
        "plt.subplot(3, 1, 2)\n",
        "plt.plot(t, h, '.-')\n",
        "plt.title(\"Raised Cosine Filter Response\")\n",
        "plt.grid(True)\n",
        "\n",
        "plt.subplot(3, 1, 3)\n",
        "plt.plot(x_shaped, '.-')\n",
        "\n",
        "plt.tight_layout()\n",
        "plt.show()"
      ],
      "metadata": {
        "id": "wDQk_plfc4FT"
      },
      "execution_count": null,
      "outputs": []
    }
  ]
}